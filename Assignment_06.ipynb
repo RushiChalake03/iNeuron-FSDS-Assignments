{
 "cells": [
  {
   "cell_type": "code",
   "execution_count": 4,
   "metadata": {},
   "outputs": [
    {
     "name": "stdout",
     "output_type": "stream",
     "text": [
      "We \\are going \t to play \n",
      " \"cricket\".\n"
     ]
    }
   ],
   "source": [
    "#Q1 What are escape characters, and how do you use them?\n",
    "\"\"\"escape characters are \\\" , \\\\ , \\n ,\\t,\\b etc. \"\"\"\n",
    "# example\n",
    "sentc = \"We \\\\are going \\t to play \\n \\\"cricket\\\".\"  \n",
    "print(sentc)"
   ]
  },
  {
   "cell_type": "code",
   "execution_count": 1,
   "metadata": {},
   "outputs": [
    {
     "data": {
      "text/plain": [
       "' n is stand for next and t stand for tab '"
      ]
     },
     "execution_count": 1,
     "metadata": {},
     "output_type": "execute_result"
    }
   ],
   "source": [
    "#Q2 What do the escape characters n and t stand for?\n",
    "\"\"\" n is stand for next and t stand for tab \"\"\""
   ]
  },
  {
   "cell_type": "code",
   "execution_count": 28,
   "metadata": {},
   "outputs": [
    {
     "data": {
      "text/plain": [
       "'If we want an actual backslash in the string , we have to write two: \\\\ '"
      ]
     },
     "execution_count": 28,
     "metadata": {},
     "output_type": "execute_result"
    }
   ],
   "source": [
    "#Q3 What is the way to include backslash characters in a string?\n",
    "\"\"\"If we want an actual backslash in the string , we have to write two: \\\\ \"\"\""
   ]
  },
  {
   "cell_type": "code",
   "execution_count": 5,
   "metadata": {},
   "outputs": [
    {
     "data": {
      "text/plain": [
       "\"The single quote in Howl's is fine because we have used double quotes to mark the beginning and end of the string.\""
      ]
     },
     "execution_count": 5,
     "metadata": {},
     "output_type": "execute_result"
    }
   ],
   "source": [
    "#Q4 The string \"Howl's Moving Castle\" is a correct value. Why isn't the single quote character in the\n",
    "# word Howl's not escaped a problem?\n",
    "\"\"\"The single quote in Howl's is fine because we have used double quotes to mark the beginning and end of the string.\"\"\""
   ]
  },
  {
   "cell_type": "code",
   "execution_count": 6,
   "metadata": {},
   "outputs": [
    {
     "data": {
      "text/plain": [
       "'Multiline strings allow you to use newlines in strings without the \\n escape character.'"
      ]
     },
     "execution_count": 6,
     "metadata": {},
     "output_type": "execute_result"
    }
   ],
   "source": [
    "#Q5 How do you write a string of newlines if you don't want to use the n character?\n",
    "\"\"\"Multiline strings allow you to use newlines in strings without the \\n escape character.\"\"\""
   ]
  },
  {
   "cell_type": "code",
   "execution_count": 32,
   "metadata": {},
   "outputs": [
    {
     "data": {
      "text/plain": [
       "('e', 'Hello', 'Hello', 'lo world!')"
      ]
     },
     "execution_count": 32,
     "metadata": {},
     "output_type": "execute_result"
    }
   ],
   "source": [
    "#Q6 What are the values of the given expressions?\n",
    "'Hello world!'[1],'Hello world!'[0:5],'Hello world!'[:5],'Hello world!'[3:]"
   ]
  },
  {
   "cell_type": "code",
   "execution_count": 34,
   "metadata": {},
   "outputs": [
    {
     "data": {
      "text/plain": [
       "('HELLO', True, 'hello')"
      ]
     },
     "execution_count": 34,
     "metadata": {},
     "output_type": "execute_result"
    }
   ],
   "source": [
    "#Q7 What are the values of the following expressions?\n",
    "'Hello'.upper(),'Hello'.upper().isupper(),'Hello'.upper().lower()"
   ]
  },
  {
   "cell_type": "code",
   "execution_count": 7,
   "metadata": {},
   "outputs": [
    {
     "data": {
      "text/plain": [
       "['Remember,', 'remember,', 'the', 'fifth', 'of', 'November.']"
      ]
     },
     "execution_count": 7,
     "metadata": {},
     "output_type": "execute_result"
    }
   ],
   "source": [
    "#Q8 What are the values of the following expressions?\n",
    "'Remember, remember, the fifth of November.'.split()"
   ]
  },
  {
   "cell_type": "code",
   "execution_count": 39,
   "metadata": {},
   "outputs": [
    {
     "data": {
      "text/plain": [
       "'There-can-be-only-one.'"
      ]
     },
     "execution_count": 39,
     "metadata": {},
     "output_type": "execute_result"
    }
   ],
   "source": [
    "'-'.join('There can be only one.'.split())"
   ]
  },
  {
   "cell_type": "code",
   "execution_count": 40,
   "metadata": {},
   "outputs": [
    {
     "data": {
      "text/plain": [
       "'The rjust(), ljust(), and center() string methods, respectively'"
      ]
     },
     "execution_count": 40,
     "metadata": {},
     "output_type": "execute_result"
    }
   ],
   "source": [
    "#Q9 What are the methods for right-justifying, left-justifying, and centering a string?\n",
    "\"\"\"The rjust(), ljust(), and center() string methods, respectively\"\"\""
   ]
  },
  {
   "cell_type": "code",
   "execution_count": 44,
   "metadata": {},
   "outputs": [
    {
     "data": {
      "text/plain": [
       "'The lstrip() and rstrip() methods remove whitespace from the left and right ends of a string, respectively.'"
      ]
     },
     "execution_count": 44,
     "metadata": {},
     "output_type": "execute_result"
    }
   ],
   "source": [
    "#Q10 What is the best way to remove whitespace characters from the start or end?\n",
    "\"\"\"The lstrip() and rstrip() methods remove whitespace from the left and right ends of a string, respectively.\"\"\""
   ]
  }
 ],
 "metadata": {
  "kernelspec": {
   "display_name": "Python 3",
   "language": "python",
   "name": "python3"
  },
  "language_info": {
   "codemirror_mode": {
    "name": "ipython",
    "version": 3
   },
   "file_extension": ".py",
   "mimetype": "text/x-python",
   "name": "python",
   "nbconvert_exporter": "python",
   "pygments_lexer": "ipython3",
   "version": "3.8.8"
  }
 },
 "nbformat": 4,
 "nbformat_minor": 4
}
