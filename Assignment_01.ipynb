{
 "cells": [
  {
   "cell_type": "markdown",
   "id": "da8a0d54",
   "metadata": {},
   "source": [
    "1. In the below elements which of them are values or an expression? \n",
    "eg:- values can be integer or string and expressions will be mathematical operators."
   ]
  },
  {
   "cell_type": "raw",
   "id": "b1a64fc3",
   "metadata": {},
   "source": [
    " * - Expression\n",
    "'hello' - Value\n",
    "-87.8 - Value\n",
    "- - Expression\n",
    "/ - Expression\n",
    "6 - Value"
   ]
  },
  {
   "cell_type": "markdown",
   "id": "2774e90f",
   "metadata": {},
   "source": [
    "2. What is the difference between string and variable?\n",
    "\n",
    "A variable is a reserved memory location to store values. We can use capital or small letters to define variable name,\n",
    "also we can use '_'. In variable name we can not use special characters like @, & etc.\n",
    "eg. my_name, address, var1 etc.\n",
    "Strings are data, so we can use them to fill up a variable. strings can be given by quatation(\"\" or '').\n",
    "eg. \"Hello\", 'Sam'"
   ]
  },
  {
   "cell_type": "markdown",
   "id": "2bd81703",
   "metadata": {},
   "source": [
    "3. Describe three different data types.\n",
    "\n",
    " 1. String : In Python, Strings are arrays of bytes representing Unicode characters.\n",
    "    A string is a collection of one or more characters put in a single quote, double-quote or triple quote.\n",
    "    \n",
    " 2. Integer : This value is represented by int class.\n",
    "    It contains positive or negative whole numbers (without fraction or decimal).\n",
    "    \n",
    " 3. Float : Float – This value is represented by float class. \n",
    "    It is a real number with floating point representation. It is specified by a decimal point."
   ]
  },
  {
   "cell_type": "markdown",
   "id": "fd10d200",
   "metadata": {},
   "source": [
    "4. What is an expression made up of? What do all expressions do?\n",
    "\n",
    "  An expression is a combination of operators and operands that is interpreted to produce some other value.\n",
    "  expressions are used to compute and assign values to variables"
   ]
  },
  {
   "cell_type": "markdown",
   "id": "f420ad9e",
   "metadata": {},
   "source": [
    "5. This assignment statements, like spam = 10. What is the difference between an expression and a statement?\n",
    "\n",
    " An “expression” is a combination of values and functions that are combined and interpreted \n",
    " by the compiler to create a new value. eg. 2 > 3 \n",
    "\n",
    " A “statement” which is just a standalone unit of execution\n",
    " and doesn’t return anything. eg. spam = 10"
   ]
  },
  {
   "cell_type": "markdown",
   "id": "36a2453b",
   "metadata": {},
   "source": [
    "6. After running the following code, what does the variable bacon contain?\n",
    " bacon = 22\n",
    " bacon + 1\n",
    "\n",
    "Ans. bacon contain same value as 22"
   ]
  },
  {
   "cell_type": "markdown",
   "id": "bd552a15",
   "metadata": {},
   "source": [
    "7. What should the values of the following two terms be?\n",
    "'spam' + 'spamspam'\n",
    "'spam' * 3\n",
    "\n",
    "Ans. 'spamspamspam'"
   ]
  },
  {
   "cell_type": "markdown",
   "id": "0b99ecb0",
   "metadata": {},
   "source": [
    "8. Why is eggs a valid variable name while 100 is invalid?\n",
    "\n",
    " Because, We can use capital or small letters to define variable name,\n",
    "    at beginning of the variable name we can not use number, \n",
    "    also variable can not be defined by number, \n",
    "    we can use number at middle or at end of the variable name."
   ]
  },
  {
   "cell_type": "raw",
   "id": "c844528c",
   "metadata": {},
   "source": [
    "9. What three functions can be used to get the integer, floating-point number, or string version of a value?\n",
    "\n",
    "    For integer we use - int()\n",
    "    For floating-point number we use - float()\n",
    "    For string we use - str()\n",
    "    "
   ]
  },
  {
   "cell_type": "markdown",
   "id": "3dd3f1ae",
   "metadata": {},
   "source": [
    "10. Why does this expression cause an error? How can you fix it?\n",
    "'I have eaten ' + 99 + ' burritos.'\n",
    "\n",
    "Ans. Because python can not concatenate string and integer together. \n",
    "     For this we can use .format() method\n",
    "     i.e.  'I have eaten {} burritos'.format(99)"
   ]
  },
  {
   "cell_type": "code",
   "execution_count": 7,
   "id": "eef88163",
   "metadata": {},
   "outputs": [
    {
     "data": {
      "text/plain": [
       "'I have eaten 99 burritos'"
      ]
     },
     "execution_count": 7,
     "metadata": {},
     "output_type": "execute_result"
    }
   ],
   "source": [
    "'I have eaten {} burritos'.format(99)"
   ]
  }
 ],
 "metadata": {
  "kernelspec": {
   "display_name": "Python 3",
   "language": "python",
   "name": "python3"
  },
  "language_info": {
   "codemirror_mode": {
    "name": "ipython",
    "version": 3
   },
   "file_extension": ".py",
   "mimetype": "text/x-python",
   "name": "python",
   "nbconvert_exporter": "python",
   "pygments_lexer": "ipython3",
   "version": "3.8.8"
  }
 },
 "nbformat": 4,
 "nbformat_minor": 5
}
